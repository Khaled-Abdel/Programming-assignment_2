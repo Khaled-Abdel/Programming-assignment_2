{
 "cells": [
  {
   "cell_type": "code",
   "execution_count": 1,
   "metadata": {},
   "outputs": [],
   "source": [
    "#1) write a Python program to convert Kilometers to miles"
   ]
  },
  {
   "cell_type": "code",
   "execution_count": 3,
   "metadata": {},
   "outputs": [
    {
     "name": "stdout",
     "output_type": "stream",
     "text": [
      "Type the amount in Kilometers to convert to miles: 25\n",
      "Miles =  15.534275000000001\n"
     ]
    }
   ],
   "source": [
    "k_m = float(input(\"Type the amount in Kilometers to convert to miles: \"))\n",
    "miles = k_m * 0.621371\n",
    "print(\"Miles = \",miles)"
   ]
  },
  {
   "cell_type": "code",
   "execution_count": 4,
   "metadata": {},
   "outputs": [],
   "source": [
    "#2) Write a Python program to convert Celsius to Fahrenheit"
   ]
  },
  {
   "cell_type": "code",
   "execution_count": 13,
   "metadata": {},
   "outputs": [
    {
     "name": "stdout",
     "output_type": "stream",
     "text": [
      "Type the tempreture in Celsius to convert to Fahrenheit: 10\n",
      "Fahrenheit =  50.0\n"
     ]
    }
   ],
   "source": [
    "C= float(input(\"Type the tempreture in Celsius to convert to Fahrenheit: \"))\n",
    "F = (C*(9/5)) +32\n",
    "print(\"Fahrenheit = \", F)"
   ]
  },
  {
   "cell_type": "code",
   "execution_count": 8,
   "metadata": {},
   "outputs": [],
   "source": [
    "#3) Write a Python program to display calendar"
   ]
  },
  {
   "cell_type": "code",
   "execution_count": 12,
   "metadata": {},
   "outputs": [
    {
     "name": "stdout",
     "output_type": "stream",
     "text": [
      "     June 2021\n",
      "Su Mo Tu We Th Fr Sa\n",
      "       1  2  3  4  5\n",
      " 6  7  8  9 10 11 12\n",
      "13 14 15 16 17 18 19\n",
      "20 21 22 23 24 25 26\n",
      "27 28 29 30\n",
      "\n"
     ]
    }
   ],
   "source": [
    "import calendar\n",
    "cal = calendar.TextCalendar(calendar.SUNDAY)\n",
    "str = cal.formatmonth(2021, 6)\n",
    "print(str)"
   ]
  },
  {
   "cell_type": "code",
   "execution_count": 2,
   "metadata": {},
   "outputs": [
    {
     "name": "stdout",
     "output_type": "stream",
     "text": [
      "Write the number of first quadratic equation which has x^2 (a): 1\n",
      "Write the number of second quadratic equation which has x (b): 0\n",
      "Write the number of third quadratic equation (c): -49\n",
      " x_neg = -7.0 and x_pos = 7.0\n"
     ]
    }
   ],
   "source": [
    "#4) write a Python Program to solve a quadratic equation\n",
    "a= int(input(\"Write the number of first quadratic equation which has x^2 (a): \"))\n",
    "b= int(input(\"Write the number of second quadratic equation which has x (b): \"))\n",
    "c=int(input(\"Write the number of third quadratic equation (c): \"))\n",
    "\n",
    "x_neg = ((-b)-((b**2)-4*(a)*(c))**(1/2))/2*(a)\n",
    "x_pos = ((-b)+((b**2)-4*(a)*(c))**(1/2))/2*(a)\n",
    "\n",
    "print(\" x_neg = {} and x_pos = {}\".format(x_neg, x_pos))\n"
   ]
  },
  {
   "cell_type": "code",
   "execution_count": 10,
   "metadata": {},
   "outputs": [],
   "source": [
    "#5) write a Python program to swap two variables without temp variable\n"
   ]
  },
  {
   "cell_type": "code",
   "execution_count": 4,
   "metadata": {},
   "outputs": [
    {
     "name": "stdout",
     "output_type": "stream",
     "text": [
      "first variable: 6\n",
      "Second Variable: 10\n",
      "First variable swap =  10\n",
      "Last variable swap =  6\n"
     ]
    }
   ],
   "source": [
    "first_name = int(input(\"first variable: \"))\n",
    "last_name = int(input(\"Second Variable: \"))\n",
    "\n",
    "first_name = first_name + last_name\n",
    "last_name = first_name - last_name\n",
    "first_name = first_name - last_name\n",
    "\n",
    "\n",
    "print(\"First variable swap = \", first_name)\n",
    "print(\"Last variable swap = \", last_name)"
   ]
  },
  {
   "cell_type": "code",
   "execution_count": null,
   "metadata": {},
   "outputs": [],
   "source": []
  },
  {
   "cell_type": "code",
   "execution_count": null,
   "metadata": {},
   "outputs": [],
   "source": []
  }
 ],
 "metadata": {
  "kernelspec": {
   "display_name": "Python 3",
   "language": "python",
   "name": "python3"
  },
  "language_info": {
   "codemirror_mode": {
    "name": "ipython",
    "version": 3
   },
   "file_extension": ".py",
   "mimetype": "text/x-python",
   "name": "python",
   "nbconvert_exporter": "python",
   "pygments_lexer": "ipython3",
   "version": "3.8.5"
  }
 },
 "nbformat": 4,
 "nbformat_minor": 4
}
